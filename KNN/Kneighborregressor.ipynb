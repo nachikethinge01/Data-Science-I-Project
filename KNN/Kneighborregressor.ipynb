{
 "cells": [
  {
   "cell_type": "code",
   "execution_count": 1400,
   "id": "a3585a10",
   "metadata": {},
   "outputs": [],
   "source": [
    "import pandas as pd\n",
    "import numpy as np\n",
    "import seaborn as sns\n",
    "import matplotlib.pyplot as plt\n",
    "import math\n",
    "from math import sqrt\n",
    "\n",
    "%matplotlib inline\n",
    "from sklearn import datasets\n",
    "from sklearn import metrics\n",
    "from sklearn import neighbors\n",
    "from sklearn.metrics import mean_squared_error \n",
    "from sklearn.neighbors import KNeighborsRegressor\n",
    "from sklearn.model_selection import RandomizedSearchCV\n",
    "from sklearn.ensemble import ExtraTreesClassifier\n",
    "from sklearn.model_selection import train_test_split\n",
    "\n"
   ]
  },
  {
   "cell_type": "code",
   "execution_count": 1401,
   "id": "778d2f35",
   "metadata": {},
   "outputs": [
    {
     "name": "stderr",
     "output_type": "stream",
     "text": [
      "/Users/allanwaweru/opt/anaconda3/lib/python3.8/site-packages/IPython/core/interactiveshell.py:3441: DtypeWarning: Columns (2,3,5) have mixed types.Specify dtype option on import or set low_memory=False.\n",
      "  exec(code_obj, self.user_global_ns, self.user_ns)\n"
     ]
    }
   ],
   "source": [
    "salary = pd.read_csv ('/Users/allanwaweru/Downloads/csci3360 finalproject/2017salary.csv')\n",
    "\n",
    "stats = pd.read_csv ('/Users/allanwaweru/Downloads/csci3360 finalproject/2017seasonstats.csv')\n"
   ]
  },
  {
   "cell_type": "code",
   "execution_count": 1402,
   "id": "d032088f",
   "metadata": {},
   "outputs": [
    {
     "data": {
      "text/html": [
       "<div>\n",
       "<style scoped>\n",
       "    .dataframe tbody tr th:only-of-type {\n",
       "        vertical-align: middle;\n",
       "    }\n",
       "\n",
       "    .dataframe tbody tr th {\n",
       "        vertical-align: top;\n",
       "    }\n",
       "\n",
       "    .dataframe thead th {\n",
       "        text-align: right;\n",
       "    }\n",
       "</style>\n",
       "<table border=\"1\" class=\"dataframe\">\n",
       "  <thead>\n",
       "    <tr style=\"text-align: right;\">\n",
       "      <th></th>\n",
       "      <th>Unnamed: 0</th>\n",
       "      <th>Year</th>\n",
       "      <th>Player</th>\n",
       "      <th>Pos</th>\n",
       "      <th>Age</th>\n",
       "      <th>Tm</th>\n",
       "      <th>G</th>\n",
       "      <th>GS</th>\n",
       "      <th>MP</th>\n",
       "      <th>PER</th>\n",
       "      <th>...</th>\n",
       "      <th>FT%</th>\n",
       "      <th>ORB</th>\n",
       "      <th>DRB</th>\n",
       "      <th>TRB</th>\n",
       "      <th>AST</th>\n",
       "      <th>STL</th>\n",
       "      <th>BLK</th>\n",
       "      <th>TOV</th>\n",
       "      <th>PF</th>\n",
       "      <th>PTS</th>\n",
       "    </tr>\n",
       "  </thead>\n",
       "  <tbody>\n",
       "    <tr>\n",
       "      <th>0</th>\n",
       "      <td>1.0</td>\n",
       "      <td>2017.0</td>\n",
       "      <td>Alex Abrines</td>\n",
       "      <td>SG</td>\n",
       "      <td>23.0</td>\n",
       "      <td>OKC</td>\n",
       "      <td>68.0</td>\n",
       "      <td>6.0</td>\n",
       "      <td>1055.0</td>\n",
       "      <td>10.0</td>\n",
       "      <td>...</td>\n",
       "      <td>1.0</td>\n",
       "      <td>18.0</td>\n",
       "      <td>68.0</td>\n",
       "      <td>86.0</td>\n",
       "      <td>40.0</td>\n",
       "      <td>37.0</td>\n",
       "      <td>8.0</td>\n",
       "      <td>33.0</td>\n",
       "      <td>114.0</td>\n",
       "      <td>406.0</td>\n",
       "    </tr>\n",
       "    <tr>\n",
       "      <th>1</th>\n",
       "      <td>2.0</td>\n",
       "      <td>2017.0</td>\n",
       "      <td>Quincy Acy</td>\n",
       "      <td>PF</td>\n",
       "      <td>26.0</td>\n",
       "      <td>TOT</td>\n",
       "      <td>38.0</td>\n",
       "      <td>1.0</td>\n",
       "      <td>558.0</td>\n",
       "      <td>12.0</td>\n",
       "      <td>...</td>\n",
       "      <td>1.0</td>\n",
       "      <td>20.0</td>\n",
       "      <td>95.0</td>\n",
       "      <td>115.0</td>\n",
       "      <td>18.0</td>\n",
       "      <td>14.0</td>\n",
       "      <td>15.0</td>\n",
       "      <td>21.0</td>\n",
       "      <td>67.0</td>\n",
       "      <td>222.0</td>\n",
       "    </tr>\n",
       "    <tr>\n",
       "      <th>2</th>\n",
       "      <td>3.0</td>\n",
       "      <td>2017.0</td>\n",
       "      <td>Steven Adams</td>\n",
       "      <td>C</td>\n",
       "      <td>23.0</td>\n",
       "      <td>OKC</td>\n",
       "      <td>80.0</td>\n",
       "      <td>80.0</td>\n",
       "      <td>2389.0</td>\n",
       "      <td>17.0</td>\n",
       "      <td>...</td>\n",
       "      <td>1.0</td>\n",
       "      <td>282.0</td>\n",
       "      <td>333.0</td>\n",
       "      <td>615.0</td>\n",
       "      <td>86.0</td>\n",
       "      <td>88.0</td>\n",
       "      <td>78.0</td>\n",
       "      <td>146.0</td>\n",
       "      <td>195.0</td>\n",
       "      <td>905.0</td>\n",
       "    </tr>\n",
       "    <tr>\n",
       "      <th>3</th>\n",
       "      <td>4.0</td>\n",
       "      <td>2017.0</td>\n",
       "      <td>Arron Afflalo</td>\n",
       "      <td>SG</td>\n",
       "      <td>31.0</td>\n",
       "      <td>SAC</td>\n",
       "      <td>61.0</td>\n",
       "      <td>45.0</td>\n",
       "      <td>1580.0</td>\n",
       "      <td>9.0</td>\n",
       "      <td>...</td>\n",
       "      <td>1.0</td>\n",
       "      <td>9.0</td>\n",
       "      <td>116.0</td>\n",
       "      <td>125.0</td>\n",
       "      <td>78.0</td>\n",
       "      <td>21.0</td>\n",
       "      <td>7.0</td>\n",
       "      <td>42.0</td>\n",
       "      <td>104.0</td>\n",
       "      <td>515.0</td>\n",
       "    </tr>\n",
       "    <tr>\n",
       "      <th>4</th>\n",
       "      <td>5.0</td>\n",
       "      <td>2017.0</td>\n",
       "      <td>Alexis Ajinca</td>\n",
       "      <td>C</td>\n",
       "      <td>28.0</td>\n",
       "      <td>NOP</td>\n",
       "      <td>39.0</td>\n",
       "      <td>15.0</td>\n",
       "      <td>584.0</td>\n",
       "      <td>13.0</td>\n",
       "      <td>...</td>\n",
       "      <td>1.0</td>\n",
       "      <td>46.0</td>\n",
       "      <td>131.0</td>\n",
       "      <td>177.0</td>\n",
       "      <td>12.0</td>\n",
       "      <td>20.0</td>\n",
       "      <td>22.0</td>\n",
       "      <td>31.0</td>\n",
       "      <td>77.0</td>\n",
       "      <td>207.0</td>\n",
       "    </tr>\n",
       "  </tbody>\n",
       "</table>\n",
       "<p>5 rows × 53 columns</p>\n",
       "</div>"
      ],
      "text/plain": [
       "   Unnamed: 0    Year         Player Pos   Age   Tm     G    GS      MP   PER  \\\n",
       "0         1.0  2017.0   Alex Abrines  SG  23.0  OKC  68.0   6.0  1055.0  10.0   \n",
       "1         2.0  2017.0     Quincy Acy  PF  26.0  TOT  38.0   1.0   558.0  12.0   \n",
       "2         3.0  2017.0   Steven Adams   C  23.0  OKC  80.0  80.0  2389.0  17.0   \n",
       "3         4.0  2017.0  Arron Afflalo  SG  31.0  SAC  61.0  45.0  1580.0   9.0   \n",
       "4         5.0  2017.0  Alexis Ajinca   C  28.0  NOP  39.0  15.0   584.0  13.0   \n",
       "\n",
       "   ...  FT%    ORB    DRB    TRB   AST   STL   BLK    TOV     PF    PTS  \n",
       "0  ...  1.0   18.0   68.0   86.0  40.0  37.0   8.0   33.0  114.0  406.0  \n",
       "1  ...  1.0   20.0   95.0  115.0  18.0  14.0  15.0   21.0   67.0  222.0  \n",
       "2  ...  1.0  282.0  333.0  615.0  86.0  88.0  78.0  146.0  195.0  905.0  \n",
       "3  ...  1.0    9.0  116.0  125.0  78.0  21.0   7.0   42.0  104.0  515.0  \n",
       "4  ...  1.0   46.0  131.0  177.0  12.0  20.0  22.0   31.0   77.0  207.0  \n",
       "\n",
       "[5 rows x 53 columns]"
      ]
     },
     "execution_count": 1402,
     "metadata": {},
     "output_type": "execute_result"
    }
   ],
   "source": [
    "\n",
    "stats.head()"
   ]
  },
  {
   "cell_type": "code",
   "execution_count": 1403,
   "id": "d226db5c",
   "metadata": {},
   "outputs": [
    {
     "data": {
      "text/html": [
       "<div>\n",
       "<style scoped>\n",
       "    .dataframe tbody tr th:only-of-type {\n",
       "        vertical-align: middle;\n",
       "    }\n",
       "\n",
       "    .dataframe tbody tr th {\n",
       "        vertical-align: top;\n",
       "    }\n",
       "\n",
       "    .dataframe thead th {\n",
       "        text-align: right;\n",
       "    }\n",
       "</style>\n",
       "<table border=\"1\" class=\"dataframe\">\n",
       "  <thead>\n",
       "    <tr style=\"text-align: right;\">\n",
       "      <th></th>\n",
       "      <th>Unnamed: 0</th>\n",
       "      <th>Player</th>\n",
       "      <th>Tm</th>\n",
       "      <th>season17_18</th>\n",
       "    </tr>\n",
       "  </thead>\n",
       "  <tbody>\n",
       "    <tr>\n",
       "      <th>0</th>\n",
       "      <td>1</td>\n",
       "      <td>Stephen Curry</td>\n",
       "      <td>GSW</td>\n",
       "      <td>34682550.0</td>\n",
       "    </tr>\n",
       "    <tr>\n",
       "      <th>1</th>\n",
       "      <td>2</td>\n",
       "      <td>LeBron James</td>\n",
       "      <td>CLE</td>\n",
       "      <td>33285709.0</td>\n",
       "    </tr>\n",
       "    <tr>\n",
       "      <th>2</th>\n",
       "      <td>3</td>\n",
       "      <td>Paul Millsap</td>\n",
       "      <td>DEN</td>\n",
       "      <td>31269231.0</td>\n",
       "    </tr>\n",
       "    <tr>\n",
       "      <th>3</th>\n",
       "      <td>4</td>\n",
       "      <td>Gordon Hayward</td>\n",
       "      <td>BOS</td>\n",
       "      <td>29727900.0</td>\n",
       "    </tr>\n",
       "    <tr>\n",
       "      <th>4</th>\n",
       "      <td>5</td>\n",
       "      <td>Blake Griffin</td>\n",
       "      <td>DET</td>\n",
       "      <td>29512900.0</td>\n",
       "    </tr>\n",
       "  </tbody>\n",
       "</table>\n",
       "</div>"
      ],
      "text/plain": [
       "   Unnamed: 0          Player   Tm  season17_18\n",
       "0           1   Stephen Curry  GSW   34682550.0\n",
       "1           2    LeBron James  CLE   33285709.0\n",
       "2           3    Paul Millsap  DEN   31269231.0\n",
       "3           4  Gordon Hayward  BOS   29727900.0\n",
       "4           5   Blake Griffin  DET   29512900.0"
      ]
     },
     "execution_count": 1403,
     "metadata": {},
     "output_type": "execute_result"
    }
   ],
   "source": [
    "salary.head()"
   ]
  },
  {
   "cell_type": "code",
   "execution_count": 1404,
   "id": "edb2b228",
   "metadata": {},
   "outputs": [],
   "source": [
    "salary = salary[['Player', 'season17_18']]\n",
    "salary.rename(columns={'season17_18':'salary17_18'},inplace = True)\n",
    "salary['salary17_18'] = salary['salary17_18'].astype(int)\n"
   ]
  },
  {
   "cell_type": "code",
   "execution_count": 1405,
   "id": "e3248efd",
   "metadata": {},
   "outputs": [],
   "source": [
    "stats = stats[['Year','Player','Pos','Age','G','PER', 'MP','PTS','AST','TRB','TOV','BLK','STL']]\n",
    "\n",
    "\n"
   ]
  },
  {
   "cell_type": "code",
   "execution_count": 1406,
   "id": "6afa7d41",
   "metadata": {},
   "outputs": [
    {
     "data": {
      "text/plain": [
       "Index(['Player', 'salary17_18'], dtype='object')"
      ]
     },
     "execution_count": 1406,
     "metadata": {},
     "output_type": "execute_result"
    }
   ],
   "source": [
    "salary.columns"
   ]
  },
  {
   "cell_type": "code",
   "execution_count": 1407,
   "id": "1082b441",
   "metadata": {},
   "outputs": [
    {
     "data": {
      "text/plain": [
       "Index(['Year', 'Player', 'Pos', 'Age', 'G', 'PER', 'MP', 'PTS', 'AST', 'TRB',\n",
       "       'TOV', 'BLK', 'STL'],\n",
       "      dtype='object')"
      ]
     },
     "execution_count": 1407,
     "metadata": {},
     "output_type": "execute_result"
    }
   ],
   "source": [
    "stats.columns"
   ]
  },
  {
   "cell_type": "code",
   "execution_count": 1408,
   "id": "458d4f07",
   "metadata": {},
   "outputs": [
    {
     "data": {
      "text/html": [
       "<div>\n",
       "<style scoped>\n",
       "    .dataframe tbody tr th:only-of-type {\n",
       "        vertical-align: middle;\n",
       "    }\n",
       "\n",
       "    .dataframe tbody tr th {\n",
       "        vertical-align: top;\n",
       "    }\n",
       "\n",
       "    .dataframe thead th {\n",
       "        text-align: right;\n",
       "    }\n",
       "</style>\n",
       "<table border=\"1\" class=\"dataframe\">\n",
       "  <thead>\n",
       "    <tr style=\"text-align: right;\">\n",
       "      <th></th>\n",
       "      <th>Year</th>\n",
       "      <th>Player</th>\n",
       "      <th>Pos</th>\n",
       "      <th>Age</th>\n",
       "      <th>G</th>\n",
       "      <th>PER</th>\n",
       "      <th>MPG</th>\n",
       "      <th>APG</th>\n",
       "      <th>RPG</th>\n",
       "      <th>TOPG</th>\n",
       "      <th>BPG</th>\n",
       "      <th>SPG</th>\n",
       "      <th>PPG</th>\n",
       "      <th>salary17_18</th>\n",
       "    </tr>\n",
       "  </thead>\n",
       "  <tbody>\n",
       "    <tr>\n",
       "      <th>426</th>\n",
       "      <td>2017.0</td>\n",
       "      <td>Russell Westbrook</td>\n",
       "      <td>PG</td>\n",
       "      <td>28.0</td>\n",
       "      <td>81.0</td>\n",
       "      <td>31.0</td>\n",
       "      <td>34.592593</td>\n",
       "      <td>10.370370</td>\n",
       "      <td>10.666667</td>\n",
       "      <td>5.407407</td>\n",
       "      <td>0.382716</td>\n",
       "      <td>1.641975</td>\n",
       "      <td>31.580247</td>\n",
       "      <td>28530608</td>\n",
       "    </tr>\n",
       "    <tr>\n",
       "      <th>169</th>\n",
       "      <td>2017.0</td>\n",
       "      <td>James Harden</td>\n",
       "      <td>PG</td>\n",
       "      <td>27.0</td>\n",
       "      <td>81.0</td>\n",
       "      <td>27.0</td>\n",
       "      <td>36.382716</td>\n",
       "      <td>11.185185</td>\n",
       "      <td>8.135802</td>\n",
       "      <td>5.728395</td>\n",
       "      <td>0.456790</td>\n",
       "      <td>1.481481</td>\n",
       "      <td>29.086420</td>\n",
       "      <td>28299399</td>\n",
       "    </tr>\n",
       "    <tr>\n",
       "      <th>392</th>\n",
       "      <td>2017.0</td>\n",
       "      <td>Isaiah Thomas</td>\n",
       "      <td>PG</td>\n",
       "      <td>27.0</td>\n",
       "      <td>76.0</td>\n",
       "      <td>27.0</td>\n",
       "      <td>33.802632</td>\n",
       "      <td>5.907895</td>\n",
       "      <td>2.697368</td>\n",
       "      <td>2.763158</td>\n",
       "      <td>0.171053</td>\n",
       "      <td>0.921053</td>\n",
       "      <td>28.934211</td>\n",
       "      <td>6261395</td>\n",
       "    </tr>\n",
       "    <tr>\n",
       "      <th>102</th>\n",
       "      <td>2017.0</td>\n",
       "      <td>Anthony Davis</td>\n",
       "      <td>C</td>\n",
       "      <td>23.0</td>\n",
       "      <td>75.0</td>\n",
       "      <td>28.0</td>\n",
       "      <td>36.106667</td>\n",
       "      <td>2.093333</td>\n",
       "      <td>11.813333</td>\n",
       "      <td>2.413333</td>\n",
       "      <td>2.226667</td>\n",
       "      <td>1.253333</td>\n",
       "      <td>27.986667</td>\n",
       "      <td>23775506</td>\n",
       "    </tr>\n",
       "    <tr>\n",
       "      <th>110</th>\n",
       "      <td>2017.0</td>\n",
       "      <td>DeMar DeRozan</td>\n",
       "      <td>SG</td>\n",
       "      <td>27.0</td>\n",
       "      <td>74.0</td>\n",
       "      <td>24.0</td>\n",
       "      <td>35.405405</td>\n",
       "      <td>3.918919</td>\n",
       "      <td>5.216216</td>\n",
       "      <td>2.432432</td>\n",
       "      <td>0.175676</td>\n",
       "      <td>1.054054</td>\n",
       "      <td>27.297297</td>\n",
       "      <td>27739975</td>\n",
       "    </tr>\n",
       "    <tr>\n",
       "      <th>252</th>\n",
       "      <td>2017.0</td>\n",
       "      <td>Damian Lillard</td>\n",
       "      <td>PG</td>\n",
       "      <td>26.0</td>\n",
       "      <td>75.0</td>\n",
       "      <td>24.0</td>\n",
       "      <td>35.920000</td>\n",
       "      <td>5.853333</td>\n",
       "      <td>4.906667</td>\n",
       "      <td>2.626667</td>\n",
       "      <td>0.266667</td>\n",
       "      <td>0.906667</td>\n",
       "      <td>26.986667</td>\n",
       "      <td>26153057</td>\n",
       "    </tr>\n",
       "    <tr>\n",
       "      <th>91</th>\n",
       "      <td>2017.0</td>\n",
       "      <td>DeMarcus Cousins</td>\n",
       "      <td>C</td>\n",
       "      <td>26.0</td>\n",
       "      <td>72.0</td>\n",
       "      <td>26.0</td>\n",
       "      <td>34.236111</td>\n",
       "      <td>4.611111</td>\n",
       "      <td>11.069444</td>\n",
       "      <td>3.736111</td>\n",
       "      <td>1.277778</td>\n",
       "      <td>1.388889</td>\n",
       "      <td>26.972222</td>\n",
       "      <td>18063850</td>\n",
       "    </tr>\n",
       "    <tr>\n",
       "      <th>209</th>\n",
       "      <td>2017.0</td>\n",
       "      <td>LeBron James</td>\n",
       "      <td>SF</td>\n",
       "      <td>32.0</td>\n",
       "      <td>74.0</td>\n",
       "      <td>27.0</td>\n",
       "      <td>37.756757</td>\n",
       "      <td>8.729730</td>\n",
       "      <td>8.648649</td>\n",
       "      <td>4.094595</td>\n",
       "      <td>0.594595</td>\n",
       "      <td>1.243243</td>\n",
       "      <td>26.405405</td>\n",
       "      <td>33285709</td>\n",
       "    </tr>\n",
       "    <tr>\n",
       "      <th>245</th>\n",
       "      <td>2017.0</td>\n",
       "      <td>Kawhi Leonard</td>\n",
       "      <td>SF</td>\n",
       "      <td>25.0</td>\n",
       "      <td>74.0</td>\n",
       "      <td>28.0</td>\n",
       "      <td>33.432432</td>\n",
       "      <td>3.513514</td>\n",
       "      <td>5.810811</td>\n",
       "      <td>2.081081</td>\n",
       "      <td>0.743243</td>\n",
       "      <td>1.783784</td>\n",
       "      <td>25.513514</td>\n",
       "      <td>18868625</td>\n",
       "    </tr>\n",
       "    <tr>\n",
       "      <th>100</th>\n",
       "      <td>2017.0</td>\n",
       "      <td>Stephen Curry</td>\n",
       "      <td>PG</td>\n",
       "      <td>28.0</td>\n",
       "      <td>79.0</td>\n",
       "      <td>25.0</td>\n",
       "      <td>33.392405</td>\n",
       "      <td>6.620253</td>\n",
       "      <td>4.468354</td>\n",
       "      <td>3.025316</td>\n",
       "      <td>0.215190</td>\n",
       "      <td>1.810127</td>\n",
       "      <td>25.303797</td>\n",
       "      <td>34682550</td>\n",
       "    </tr>\n",
       "  </tbody>\n",
       "</table>\n",
       "</div>"
      ],
      "text/plain": [
       "       Year             Player Pos   Age     G   PER        MPG        APG  \\\n",
       "426  2017.0  Russell Westbrook  PG  28.0  81.0  31.0  34.592593  10.370370   \n",
       "169  2017.0       James Harden  PG  27.0  81.0  27.0  36.382716  11.185185   \n",
       "392  2017.0      Isaiah Thomas  PG  27.0  76.0  27.0  33.802632   5.907895   \n",
       "102  2017.0      Anthony Davis   C  23.0  75.0  28.0  36.106667   2.093333   \n",
       "110  2017.0      DeMar DeRozan  SG  27.0  74.0  24.0  35.405405   3.918919   \n",
       "252  2017.0     Damian Lillard  PG  26.0  75.0  24.0  35.920000   5.853333   \n",
       "91   2017.0   DeMarcus Cousins   C  26.0  72.0  26.0  34.236111   4.611111   \n",
       "209  2017.0       LeBron James  SF  32.0  74.0  27.0  37.756757   8.729730   \n",
       "245  2017.0      Kawhi Leonard  SF  25.0  74.0  28.0  33.432432   3.513514   \n",
       "100  2017.0      Stephen Curry  PG  28.0  79.0  25.0  33.392405   6.620253   \n",
       "\n",
       "           RPG      TOPG       BPG       SPG        PPG  salary17_18  \n",
       "426  10.666667  5.407407  0.382716  1.641975  31.580247     28530608  \n",
       "169   8.135802  5.728395  0.456790  1.481481  29.086420     28299399  \n",
       "392   2.697368  2.763158  0.171053  0.921053  28.934211      6261395  \n",
       "102  11.813333  2.413333  2.226667  1.253333  27.986667     23775506  \n",
       "110   5.216216  2.432432  0.175676  1.054054  27.297297     27739975  \n",
       "252   4.906667  2.626667  0.266667  0.906667  26.986667     26153057  \n",
       "91   11.069444  3.736111  1.277778  1.388889  26.972222     18063850  \n",
       "209   8.648649  4.094595  0.594595  1.243243  26.405405     33285709  \n",
       "245   5.810811  2.081081  0.743243  1.783784  25.513514     18868625  \n",
       "100   4.468354  3.025316  0.215190  1.810127  25.303797     34682550  "
      ]
     },
     "execution_count": 1408,
     "metadata": {},
     "output_type": "execute_result"
    }
   ],
   "source": [
    "stats_salary.drop_duplicates(subset=['Player'], keep='first',inplace=True)\n",
    "stats_salary.head(10)\n"
   ]
  },
  {
   "cell_type": "code",
   "execution_count": 1384,
   "id": "e0a46e59",
   "metadata": {},
   "outputs": [],
   "source": [
    "c = ['MPG', 'APG','RPG','TOPG','BPG','SPG','PPG']\n",
    "w = ['MP','AST','TRB','TOV','BLK','STL', 'PTS'] \n",
    "\n",
    "\n",
    "for i,s in zip(c,w):\n",
    "    stats[i] = stats[s] / stats['G']\n",
    "\n",
    "stats.drop(w,axis=1,inplace=True)\n",
    "stats_salary = pd.merge(stats, salary) "
   ]
  },
  {
   "cell_type": "code",
   "execution_count": 1385,
   "id": "4d90288e",
   "metadata": {},
   "outputs": [
    {
     "data": {
      "text/plain": [
       "Year           450\n",
       "Player         450\n",
       "Pos            450\n",
       "Age            450\n",
       "G              450\n",
       "PER            450\n",
       "MPG            450\n",
       "APG            450\n",
       "RPG            450\n",
       "TOPG           450\n",
       "BPG            450\n",
       "SPG            450\n",
       "PPG            450\n",
       "salary17_18    450\n",
       "dtype: int64"
      ]
     },
     "execution_count": 1385,
     "metadata": {},
     "output_type": "execute_result"
    }
   ],
   "source": [
    "stats_salary.count()"
   ]
  },
  {
   "cell_type": "code",
   "execution_count": 1386,
   "id": "0c7dfcf1",
   "metadata": {},
   "outputs": [
    {
     "data": {
      "image/png": "[encoded data removed]",
      "text/plain": [
       "<Figure size 432x288 with 1 Axes>"
      ]
     },
     "metadata": {
      "needs_background": "light"
     },
     "output_type": "display_data"
    }
   ],
   "source": [
    "plt.hist(stats_salary['salary17_18'],density=True,bins=50)\n",
    "plt.xlabel('2017-2018 Salary(million)')\n",
    "plt.ylabel('Density')\n",
    "\n",
    "plt.show()"
   ]
  },
  {
   "cell_type": "code",
   "execution_count": 1387,
   "id": "66de6ea1",
   "metadata": {},
   "outputs": [
    {
     "data": {
      "image/png": "[encoded data removed]",
      "text/plain": [
       "<Figure size 720x720 with 2 Axes>"
      ]
     },
     "metadata": {
      "needs_background": "light"
     },
     "output_type": "display_data"
    }
   ],
   "source": [
    "corrmat = stats_salary.corr()\n",
    "top_corr_features = corrmat.index\n",
    "plt.figure(figsize=(10,10))\n",
    "#plot heat map\n",
    "g=sns.heatmap(stats_salary[top_corr_features].corr(),annot=True,cmap=\"RdYlGn\")"
   ]
  },
  {
   "cell_type": "code",
   "execution_count": 1388,
   "id": "99acf596",
   "metadata": {},
   "outputs": [
    {
     "data": {
      "text/html": [
       "<div>\n",
       "<style scoped>\n",
       "    .dataframe tbody tr th:only-of-type {\n",
       "        vertical-align: middle;\n",
       "    }\n",
       "\n",
       "    .dataframe tbody tr th {\n",
       "        vertical-align: top;\n",
       "    }\n",
       "\n",
       "    .dataframe thead th {\n",
       "        text-align: right;\n",
       "    }\n",
       "</style>\n",
       "<table border=\"1\" class=\"dataframe\">\n",
       "  <thead>\n",
       "    <tr style=\"text-align: right;\">\n",
       "      <th></th>\n",
       "      <th>Player</th>\n",
       "      <th>PPG</th>\n",
       "      <th>salary17_18</th>\n",
       "    </tr>\n",
       "  </thead>\n",
       "  <tbody>\n",
       "    <tr>\n",
       "      <th>426</th>\n",
       "      <td>Russell Westbrook</td>\n",
       "      <td>31.580247</td>\n",
       "      <td>28530608</td>\n",
       "    </tr>\n",
       "    <tr>\n",
       "      <th>169</th>\n",
       "      <td>James Harden</td>\n",
       "      <td>29.086420</td>\n",
       "      <td>28299399</td>\n",
       "    </tr>\n",
       "    <tr>\n",
       "      <th>392</th>\n",
       "      <td>Isaiah Thomas</td>\n",
       "      <td>28.934211</td>\n",
       "      <td>6261395</td>\n",
       "    </tr>\n",
       "    <tr>\n",
       "      <th>102</th>\n",
       "      <td>Anthony Davis</td>\n",
       "      <td>27.986667</td>\n",
       "      <td>23775506</td>\n",
       "    </tr>\n",
       "    <tr>\n",
       "      <th>110</th>\n",
       "      <td>DeMar DeRozan</td>\n",
       "      <td>27.297297</td>\n",
       "      <td>27739975</td>\n",
       "    </tr>\n",
       "    <tr>\n",
       "      <th>252</th>\n",
       "      <td>Damian Lillard</td>\n",
       "      <td>26.986667</td>\n",
       "      <td>26153057</td>\n",
       "    </tr>\n",
       "    <tr>\n",
       "      <th>91</th>\n",
       "      <td>DeMarcus Cousins</td>\n",
       "      <td>26.972222</td>\n",
       "      <td>18063850</td>\n",
       "    </tr>\n",
       "    <tr>\n",
       "      <th>209</th>\n",
       "      <td>LeBron James</td>\n",
       "      <td>26.405405</td>\n",
       "      <td>33285709</td>\n",
       "    </tr>\n",
       "    <tr>\n",
       "      <th>245</th>\n",
       "      <td>Kawhi Leonard</td>\n",
       "      <td>25.513514</td>\n",
       "      <td>18868625</td>\n",
       "    </tr>\n",
       "    <tr>\n",
       "      <th>100</th>\n",
       "      <td>Stephen Curry</td>\n",
       "      <td>25.303797</td>\n",
       "      <td>34682550</td>\n",
       "    </tr>\n",
       "    <tr>\n",
       "      <th>203</th>\n",
       "      <td>Kyrie Irving</td>\n",
       "      <td>25.222222</td>\n",
       "      <td>18868625</td>\n",
       "    </tr>\n",
       "    <tr>\n",
       "      <th>400</th>\n",
       "      <td>Karl-Anthony Towns</td>\n",
       "      <td>25.134146</td>\n",
       "      <td>6216840</td>\n",
       "    </tr>\n",
       "    <tr>\n",
       "      <th>119</th>\n",
       "      <td>Kevin Durant</td>\n",
       "      <td>25.080645</td>\n",
       "      <td>25000000</td>\n",
       "    </tr>\n",
       "    <tr>\n",
       "      <th>63</th>\n",
       "      <td>Jimmy Butler</td>\n",
       "      <td>23.894737</td>\n",
       "      <td>19301070</td>\n",
       "    </tr>\n",
       "    <tr>\n",
       "      <th>149</th>\n",
       "      <td>Paul George</td>\n",
       "      <td>23.666667</td>\n",
       "      <td>19508958</td>\n",
       "    </tr>\n",
       "  </tbody>\n",
       "</table>\n",
       "</div>"
      ],
      "text/plain": [
       "                 Player        PPG  salary17_18\n",
       "426   Russell Westbrook  31.580247     28530608\n",
       "169        James Harden  29.086420     28299399\n",
       "392       Isaiah Thomas  28.934211      6261395\n",
       "102       Anthony Davis  27.986667     23775506\n",
       "110       DeMar DeRozan  27.297297     27739975\n",
       "252      Damian Lillard  26.986667     26153057\n",
       "91     DeMarcus Cousins  26.972222     18063850\n",
       "209        LeBron James  26.405405     33285709\n",
       "245       Kawhi Leonard  25.513514     18868625\n",
       "100       Stephen Curry  25.303797     34682550\n",
       "203        Kyrie Irving  25.222222     18868625\n",
       "400  Karl-Anthony Towns  25.134146      6216840\n",
       "119        Kevin Durant  25.080645     25000000\n",
       "63         Jimmy Butler  23.894737     19301070\n",
       "149         Paul George  23.666667     19508958"
      ]
     },
     "execution_count": 1388,
     "metadata": {},
     "output_type": "execute_result"
    }
   ],
   "source": [
    "\n",
    "stats_salary.sort_values(by='PPG',ascending=False,inplace = True)\n",
    "stats_salary[['Player','PPG', 'salary17_18']].head(15)"
   ]
  },
  {
   "cell_type": "code",
   "execution_count": 1389,
   "id": "072651c0",
   "metadata": {},
   "outputs": [
    {
     "data": {
      "text/plain": [
       "<seaborn.axisgrid.FacetGrid at 0x7fde93563b50>"
      ]
     },
     "execution_count": 1389,
     "metadata": {},
     "output_type": "execute_result"
    },
    {
     "data": {
      "image/png": "[encoded data removed]",
      "text/plain": [
       "<Figure size 360x360 with 1 Axes>"
      ]
     },
     "metadata": {
      "needs_background": "light"
     },
     "output_type": "display_data"
    }
   ],
   "source": [
    "sns.lmplot(x=\"APG\", y=\"salary17_18\", data=stats_salary,lowess=True).set(xlabel='APG', ylabel='Salary 2017-2018(Millions)')"
   ]
  },
  {
   "cell_type": "code",
   "execution_count": 1390,
   "id": "5508bec6",
   "metadata": {},
   "outputs": [
    {
     "data": {
      "image/png": "[encoded data removed]",
      "text/plain": [
       "<Figure size 432x288 with 1 Axes>"
      ]
     },
     "metadata": {
      "needs_background": "light"
     },
     "output_type": "display_data"
    }
   ],
   "source": [
    "plt.hist(stats_salary['salary17_18'],density=True,bins=50)\n",
    "plt.xlabel('2017-2018 Salary(million)')\n",
    "plt.ylabel('Density')\n",
    "plt.show()"
   ]
  },
  {
   "cell_type": "code",
   "execution_count": 1392,
   "id": "b4ae228f",
   "metadata": {},
   "outputs": [
    {
     "name": "stdout",
     "output_type": "stream",
     "text": [
      "[0.115494   0.09816264 0.09362738 0.10024205 0.09617457 0.0992319\n",
      " 0.10108712 0.0966348  0.09481796 0.10452759]\n"
     ]
    },
    {
     "data": {
      "image/png": "[encoded data removed]",
      "text/plain": [
       "<Figure size 432x288 with 1 Axes>"
      ]
     },
     "metadata": {
      "needs_background": "light"
     },
     "output_type": "display_data"
    }
   ],
   "source": [
    "\n",
    "X = stats_salary.iloc[:,3:13]  #independent columns\n",
    "y = stats_salary.iloc[:,-1]    #target column i.e salary\n",
    "\n",
    "model = ExtraTreesClassifier()\n",
    "model.fit(X,y)\n",
    "print(model.feature_importances_) \n",
    "#plot graph of feature importances for better visualization\n",
    "feat_importances = pd.Series(model.feature_importances_, index=X.columns)\n",
    "feat_importances.nlargest(5).plot(kind='barh')\n",
    "plt.show()"
   ]
  },
  {
   "cell_type": "code",
   "execution_count": 1393,
   "id": "b54c3446",
   "metadata": {},
   "outputs": [
    {
     "data": {
      "text/plain": [
       "sklearn.neighbors._regression.KNeighborsRegressor"
      ]
     },
     "execution_count": 1393,
     "metadata": {},
     "output_type": "execute_result"
    }
   ],
   "source": [
    "KNeighborsRegressor"
   ]
  },
  {
   "cell_type": "code",
   "execution_count": 1394,
   "id": "3c0cebfd",
   "metadata": {},
   "outputs": [
    {
     "name": "stdout",
     "output_type": "stream",
     "text": [
      "Original Testing score: 0.32692652718326565\n"
     ]
    }
   ],
   "source": [
    "X = stats_salary.iloc[:,3:13]  #independent columns\n",
    "y = stats_salary.iloc[:,-1] \n",
    "# Splitting data into train and test\n",
    "\n",
    "\n",
    "X_train, X_test, y_train, y_test = train_test_split(X,y,test_size=0.2, random_state=0)\n",
    "\n",
    "knn = KNeighborsRegressor(n_neighbors=1)\n",
    "knn.fit(X_train,y_train)\n",
    "print(f\"Original Testing score: {knn.score(X_test, y_test)}\")"
   ]
  },
  {
   "cell_type": "code",
   "execution_count": 1395,
   "id": "095f8ad3",
   "metadata": {},
   "outputs": [
    {
     "data": {
      "text/plain": [
       "{'n_neighbors': 22}"
      ]
     },
     "execution_count": 1395,
     "metadata": {},
     "output_type": "execute_result"
    }
   ],
   "source": [
    "\n",
    "params = {'n_neighbors':list(range(1,50))}\n",
    "knn = neighbors.KNeighborsRegressor()\n",
    "model = GridSearchCV(knn, params, cv=10)\n",
    "model.fit(X_train,y_train)\n",
    "model.best_params_\n"
   ]
  },
  {
   "cell_type": "code",
   "execution_count": 1396,
   "id": "ab569fa6",
   "metadata": {},
   "outputs": [
    {
     "data": {
      "image/png": "[encoded data removed]",
      "text/plain": [
       "<Figure size 432x288 with 1 Axes>"
      ]
     },
     "metadata": {
      "needs_background": "light"
     },
     "output_type": "display_data"
    }
   ],
   "source": [
    "neighbors = np.arange(1, 50)\n",
    "train_accuracy = np.empty(len(neighbors))\n",
    "test_accuracy = np.empty(len(neighbors))\n",
    " \n",
    "# Loop over K values\n",
    "for i, k in enumerate(neighbors):\n",
    "    knn = KNeighborsRegressor(n_neighbors=k)\n",
    "    knn.fit(X_train, y_train)\n",
    "     \n",
    "    # Compute training and test data accuracy\n",
    "    train_accuracy[i] = knn.score(X_train, y_train)\n",
    "    test_accuracy[i] = knn.score(X_test, y_test)\n",
    " \n",
    "# Generate plot\n",
    "plt.plot(neighbors, test_accuracy, label = 'Testing dataset Accuracy')\n",
    "plt.plot(neighbors, train_accuracy, label = 'Training dataset Accuracy')\n",
    " \n",
    "plt.legend()\n",
    "plt.xlabel('n_neighbors')\n",
    "plt.ylabel('Accuracy')\n",
    "plt.show()"
   ]
  },
  {
   "cell_type": "code",
   "execution_count": 1397,
   "id": "31e8cba4",
   "metadata": {},
   "outputs": [
    {
     "name": "stdout",
     "output_type": "stream",
     "text": [
      "Training score after hyperparameter tuning: 0.5995946200025979\n"
     ]
    }
   ],
   "source": [
    "# use the best hyperparameters\n",
    "knn = KNeighborsRegressor(n_neighbors = 22)\n",
    "knn.fit(X_train, y_train)\n",
    "\n",
    "\n",
    "print(f\"Training score after hyperparameter tuning: {knn.score(X_train, y_train)}\")"
   ]
  },
  {
   "cell_type": "code",
   "execution_count": 1398,
   "id": "6f6382b7",
   "metadata": {},
   "outputs": [
    {
     "name": "stdout",
     "output_type": "stream",
     "text": [
      "Testing score after hyperparameter tuning: 0.6183153239633293\n"
     ]
    }
   ],
   "source": [
    "# use the best hyperparameters\n",
    "knn2 = KNeighborsRegressor(n_neighbors = 22)\n",
    "knn2.fit(X_test, y_test)\n",
    "print(f\"Testing score after hyperparameter tuning: {knn.score(X_test, y_test)}\")"
   ]
  },
  {
   "cell_type": "code",
   "execution_count": null,
   "id": "707d0c15",
   "metadata": {},
   "outputs": [],
   "source": []
  },
  {
   "cell_type": "code",
   "execution_count": null,
   "id": "846ec6e0",
   "metadata": {},
   "outputs": [],
   "source": []
  },
  {
   "cell_type": "code",
   "execution_count": null,
   "id": "3d7edbb7",
   "metadata": {},
   "outputs": [],
   "source": []
  },
  {
   "cell_type": "code",
   "execution_count": null,
   "id": "01b98cf8",
   "metadata": {},
   "outputs": [],
   "source": []
  },
  {
   "cell_type": "code",
   "execution_count": null,
   "id": "585b19a4",
   "metadata": {},
   "outputs": [],
   "source": []
  },
  {
   "cell_type": "code",
   "execution_count": null,
   "id": "afbfcd03",
   "metadata": {},
   "outputs": [],
   "source": []
  },
  {
   "cell_type": "code",
   "execution_count": null,
   "id": "01c67578",
   "metadata": {},
   "outputs": [],
   "source": []
  },
  {
   "cell_type": "code",
   "execution_count": null,
   "id": "cc8416a7",
   "metadata": {},
   "outputs": [],
   "source": []
  }
 ],
 "metadata": {
  "kernelspec": {
   "display_name": "Python 3 (ipykernel)",
   "language": "python",
   "name": "python3"
  },
  "language_info": {
   "codemirror_mode": {
    "name": "ipython",
    "version": 3
   },
   "file_extension": ".py",
   "mimetype": "text/x-python",
   "name": "python",
   "nbconvert_exporter": "python",
   "pygments_lexer": "ipython3",
   "version": "3.8.8"
  }
 },
 "nbformat": 4,
 "nbformat_minor": 5
}
